{
 "cells": [
  {
   "cell_type": "code",
   "execution_count": 1,
   "metadata": {},
   "outputs": [],
   "source": [
    "from selenium import webdriver\n",
    "from selenium.webdriver.common.by import By\n",
    "from selenium.webdriver.common.keys import Keys\n",
    "from tqdm import tqdm\n",
    "import time\n",
    "import bs4 \n",
    "import requests\n",
    "import pandas as pd\n",
    "\n",
    "username = \"ikwamkid@outlook.com\"\n",
    "password = \"12345678\"\n",
    "\n",
    "driver = webdriver.Chrome(executable_path=r'C:\\Users\\Admin\\Documents\\GitHub\\tryme_selenium\\chromedriver\\chromedriver')\n",
    "driver.get('https://www.dataforthai.com/business/objective/32111')\n",
    "\n",
    "# กดปุ่ม log in\n",
    "time.sleep(2)\n",
    "login = driver.find_element_by_xpath('/html/body/div[2]/div/div[1]/div[1]/div/div[2]/div/div/ul/li[3]/a').click()\n",
    "\n",
    "# ป้อน username/password\n",
    "time.sleep(2)\n",
    "user = driver.find_element_by_xpath('/html/body/div[1]/div/div[4]/div/div/div[2]/form/div[1]/input')\n",
    "pas = driver.find_element_by_xpath('/html/body/div[1]/div/div[4]/div/div/div[2]/form/div[2]/input')\n",
    "time.sleep(1)\n",
    "user.send_keys(username)\n",
    "time.sleep(1)\n",
    "pas.send_keys(password)\n",
    "\n",
    "# กดเข้าสู่ระบบ\n",
    "time.sleep(1)\n",
    "btn = driver.find_element_by_id('btn-login').click()\n",
    "\n",
    "# กดปุ่มเริ่มใช้งาน dataforthai\n",
    "time.sleep(2)\n",
    "start = driver.find_element_by_xpath('/html/body/div[1]/div/div[4]/div/div/div/a[1]').click()\n",
    "\n",
    "# ปิด cookie policy\n",
    "time.sleep(1)\n",
    "cookie_button = driver.find_element_by_link_text('ยอมรับ').click()\n",
    "\n",
    "#Zoom out เพื่อให้ load ทั่วหน้าจอ\n",
    "driver.execute_script(\"document.body.style.Transform='scale(0.1)';\")\n",
    "driver.execute_script('document.body.style.TransformOrigin = \"0 0\";')"
   ]
  },
  {
   "cell_type": "markdown",
   "metadata": {},
   "source": [
    "## Scraping Process"
   ]
  },
  {
   "cell_type": "code",
   "execution_count": 2,
   "metadata": {},
   "outputs": [
    {
     "name": "stderr",
     "output_type": "stream",
     "text": [
      "100%|██████████| 4/4 [05:07<00:00, 76.91s/it]\n"
     ]
    }
   ],
   "source": [
    "name =[]\n",
    "reg_cap = []\n",
    "province = []\n",
    "district = []\n",
    "\n",
    "#เก็บurlผปกจากทั้งหมด4หน้า\n",
    "for i in tqdm(range(4)):\n",
    "    url = \"https://www.dataforthai.com/business/objective/32111/\" + str(i+1)\n",
    "    driver.get(url)\n",
    "\n",
    "    #หาชื่อนิติบุคคล\n",
    "    for n in driver.find_elements_by_xpath('//*[@id=\"divResult\"]/table/tbody/tr/td[2]'):\n",
    "        name.append(n.text)\n",
    "\n",
    "    #ทุนจดทะเบียน\n",
    "    for r in driver.find_elements_by_xpath('//*[@id=\"divResult\"]/table/tbody/tr/td[3]'):\n",
    "        reg_cap.append(r.text)\n",
    "\n",
    "    #จังหวัด\n",
    "    for p in driver.find_elements_by_xpath('//*[@id=\"divResult\"]/table/tbody/tr/td[5]'):\n",
    "        province.append(p.text)\n",
    "\n",
    "    #อำเภอ\n",
    "    for d in driver.find_elements_by_xpath('//*[@id=\"divResult\"]/table/tbody/tr/td[6]'):\n",
    "        district.append(d.text)\n",
    "\n",
    "driver.quit() "
   ]
  },
  {
   "cell_type": "code",
   "execution_count": 3,
   "metadata": {},
   "outputs": [
    {
     "data": {
      "text/html": [
       "<div>\n",
       "<style scoped>\n",
       "    .dataframe tbody tr th:only-of-type {\n",
       "        vertical-align: middle;\n",
       "    }\n",
       "\n",
       "    .dataframe tbody tr th {\n",
       "        vertical-align: top;\n",
       "    }\n",
       "\n",
       "    .dataframe thead th {\n",
       "        text-align: right;\n",
       "    }\n",
       "</style>\n",
       "<table border=\"1\" class=\"dataframe\">\n",
       "  <thead>\n",
       "    <tr style=\"text-align: right;\">\n",
       "      <th></th>\n",
       "      <th>name</th>\n",
       "      <th>reg_cap</th>\n",
       "      <th>province</th>\n",
       "      <th>district</th>\n",
       "    </tr>\n",
       "  </thead>\n",
       "  <tbody>\n",
       "    <tr>\n",
       "      <th>0</th>\n",
       "      <td>168 เคซีพี</td>\n",
       "      <td>15,000,000</td>\n",
       "      <td>กรุงเทพมหานคร</td>\n",
       "      <td>เขตยานนาวา</td>\n",
       "    </tr>\n",
       "    <tr>\n",
       "      <th>1</th>\n",
       "      <td>168 สตูดิโอ แอนด์ ซัพพลาย</td>\n",
       "      <td>1,000,000</td>\n",
       "      <td>กรุงเทพมหานคร</td>\n",
       "      <td>เขตมีนบุรี</td>\n",
       "    </tr>\n",
       "    <tr>\n",
       "      <th>2</th>\n",
       "      <td>2 เอ็มเอ็น</td>\n",
       "      <td>4,000,000</td>\n",
       "      <td>กรุงเทพมหานคร</td>\n",
       "      <td>เขตบางบอน</td>\n",
       "    </tr>\n",
       "    <tr>\n",
       "      <th>3</th>\n",
       "      <td>3 เจ จิวเวลรี่</td>\n",
       "      <td>3,000,000</td>\n",
       "      <td>กรุงเทพมหานคร</td>\n",
       "      <td>เขตจอมทอง</td>\n",
       "    </tr>\n",
       "    <tr>\n",
       "      <th>4</th>\n",
       "      <td>484</td>\n",
       "      <td>1,000,000</td>\n",
       "      <td>กรุงเทพมหานคร</td>\n",
       "      <td>เขตมีนบุรี</td>\n",
       "    </tr>\n",
       "    <tr>\n",
       "      <th>...</th>\n",
       "      <td>...</td>\n",
       "      <td>...</td>\n",
       "      <td>...</td>\n",
       "      <td>...</td>\n",
       "    </tr>\n",
       "    <tr>\n",
       "      <th>1427</th>\n",
       "      <td>แฮมิลตันส์</td>\n",
       "      <td>10,000,000</td>\n",
       "      <td>กรุงเทพมหานคร</td>\n",
       "      <td>เขตบางขุนเทียน</td>\n",
       "    </tr>\n",
       "    <tr>\n",
       "      <th>1428</th>\n",
       "      <td>โฮเรีย จิวเวลรี่</td>\n",
       "      <td>4,000,000</td>\n",
       "      <td>กรุงเทพมหานคร</td>\n",
       "      <td>เขตมีนบุรี</td>\n",
       "    </tr>\n",
       "    <tr>\n",
       "      <th>1429</th>\n",
       "      <td>ไฮ-ไท อิมปอร์ต เอ็กซ์ปอร์ต</td>\n",
       "      <td>1,000,000</td>\n",
       "      <td>กรุงเทพมหานคร</td>\n",
       "      <td>เขตจอมทอง</td>\n",
       "    </tr>\n",
       "    <tr>\n",
       "      <th>1430</th>\n",
       "      <td>ไฮท์ คอร์ปอเรชั่น</td>\n",
       "      <td>40,000,000</td>\n",
       "      <td>กรุงเทพมหานคร</td>\n",
       "      <td>เขตบางรัก</td>\n",
       "    </tr>\n",
       "    <tr>\n",
       "      <th>1431</th>\n",
       "      <td>๑๕๓ จิวเวลรี่ เทรดดิ้ง</td>\n",
       "      <td>1,000,000</td>\n",
       "      <td>กรุงเทพมหานคร</td>\n",
       "      <td>เขตธนบุรี</td>\n",
       "    </tr>\n",
       "  </tbody>\n",
       "</table>\n",
       "<p>1432 rows × 4 columns</p>\n",
       "</div>"
      ],
      "text/plain": [
       "                            name     reg_cap       province        district\n",
       "0                     168 เคซีพี  15,000,000  กรุงเทพมหานคร      เขตยานนาวา\n",
       "1      168 สตูดิโอ แอนด์ ซัพพลาย   1,000,000  กรุงเทพมหานคร      เขตมีนบุรี\n",
       "2                     2 เอ็มเอ็น   4,000,000  กรุงเทพมหานคร       เขตบางบอน\n",
       "3                 3 เจ จิวเวลรี่   3,000,000  กรุงเทพมหานคร       เขตจอมทอง\n",
       "4                            484   1,000,000  กรุงเทพมหานคร      เขตมีนบุรี\n",
       "...                          ...         ...            ...             ...\n",
       "1427                  แฮมิลตันส์  10,000,000  กรุงเทพมหานคร  เขตบางขุนเทียน\n",
       "1428            โฮเรีย จิวเวลรี่   4,000,000  กรุงเทพมหานคร      เขตมีนบุรี\n",
       "1429  ไฮ-ไท อิมปอร์ต เอ็กซ์ปอร์ต   1,000,000  กรุงเทพมหานคร       เขตจอมทอง\n",
       "1430           ไฮท์ คอร์ปอเรชั่น  40,000,000  กรุงเทพมหานคร       เขตบางรัก\n",
       "1431      ๑๕๓ จิวเวลรี่ เทรดดิ้ง   1,000,000  กรุงเทพมหานคร       เขตธนบุรี\n",
       "\n",
       "[1432 rows x 4 columns]"
      ]
     },
     "execution_count": 3,
     "metadata": {},
     "output_type": "execute_result"
    }
   ],
   "source": [
    "table = pd.DataFrame([name,reg_cap,province,district]).transpose()\n",
    "table.columns = ['name','reg_cap','province','district']\n",
    "table"
   ]
  },
  {
   "cell_type": "markdown",
   "metadata": {},
   "source": [
    "- dump data to json file"
   ]
  },
  {
   "cell_type": "code",
   "execution_count": null,
   "metadata": {},
   "outputs": [],
   "source": [
    "import json\n",
    "dataforthai = []"
   ]
  },
  {
   "cell_type": "code",
   "execution_count": null,
   "metadata": {},
   "outputs": [],
   "source": [
    "table = table.to_dict('records')\n",
    "#print (table)"
   ]
  },
  {
   "cell_type": "code",
   "execution_count": null,
   "metadata": {},
   "outputs": [],
   "source": [
    "print (f\"page:{len(table)}\")"
   ]
  },
  {
   "cell_type": "code",
   "execution_count": null,
   "metadata": {},
   "outputs": [],
   "source": [
    "with open('dataforthai.json', 'w') as f:\n",
    "    json.dump(table, f)"
   ]
  },
  {
   "cell_type": "markdown",
   "metadata": {},
   "source": [
    "## Upload data to DataPlatform"
   ]
  },
  {
   "cell_type": "code",
   "execution_count": null,
   "metadata": {},
   "outputs": [],
   "source": [
    "from dsmlibrary.datanode import DataNode"
   ]
  },
  {
   "cell_type": "code",
   "execution_count": null,
   "metadata": {},
   "outputs": [],
   "source": [
    "dir_rawData_id = 87"
   ]
  },
  {
   "cell_type": "code",
   "execution_count": null,
   "metadata": {},
   "outputs": [],
   "source": [
    "datanode = DataNode()"
   ]
  },
  {
   "cell_type": "code",
   "execution_count": null,
   "metadata": {},
   "outputs": [],
   "source": [
    "datanode.upload_file(directory_id=dir_rawData_id, file_path='dataforthai.json')"
   ]
  }
 ],
 "metadata": {
  "kernelspec": {
   "display_name": "Python 3.9.13 ('dsi314_se')",
   "language": "python",
   "name": "python3"
  },
  "language_info": {
   "codemirror_mode": {
    "name": "ipython",
    "version": 3
   },
   "file_extension": ".py",
   "mimetype": "text/x-python",
   "name": "python",
   "nbconvert_exporter": "python",
   "pygments_lexer": "ipython3",
   "version": "3.9.13"
  },
  "orig_nbformat": 4,
  "vscode": {
   "interpreter": {
    "hash": "785dfde9ab2fb35d407d825d6311be0b8f4f807384574ce9fa994ed6cb7ae234"
   }
  }
 },
 "nbformat": 4,
 "nbformat_minor": 2
}
