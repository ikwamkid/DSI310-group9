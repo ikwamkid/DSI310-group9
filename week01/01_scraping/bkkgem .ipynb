{
 "cells": [
  {
   "cell_type": "code",
   "execution_count": null,
   "id": "b1f0fee0-85c3-4b8e-b658-24371f7799c9",
   "metadata": {
    "tags": []
   },
   "outputs": [],
   "source": [
    "import bs4 \n",
    "import requests\n",
    "import pandas as pd\n",
    "from bs4 import BeautifulSoup\n",
    "\n",
    "page = 0\n",
    "Exhibitor = []\n",
    "Brand = []\n",
    "About = []\n",
    "Tag = []\n",
    "Detail = []\n",
    "\n",
    "while page <= 940:\n",
    "    page = page + 1\n",
    "    \n",
    "    try : \n",
    "            data = requests.get('https://www.bkkgems.com/exprofile/' + str(page))\n",
    "            soup = bs4.BeautifulSoup(data.text)  \n",
    "            for n in soup.find('span',{'id':'txtComname'}):  \n",
    "                #names = []\n",
    "                #name = soup.find('div',{'class':'col-12 text-center txt-upper'})\n",
    "                name1 = n.text.replace('\\n','')\n",
    "                if name1 != None:\n",
    "                    Exhibitor.append(name1)\n",
    "\n",
    "            for b in soup.find('div',{'class':'col-12 col-sm-8 col-md-12 col-lg-8 text textdetail'}): \n",
    "                #brands = []\n",
    "                brand = b.text.replace('\\n','')\n",
    "                if brand != None:\n",
    "                    Brand.append(brand)\n",
    "\n",
    "            for a in soup.find('div',{'class':'col-12 textdetail'}): \n",
    "                #abouts = []\n",
    "                about = a.text.replace('\\n','')\n",
    "                if about != None:\n",
    "                    About.append(about)\n",
    "\n",
    "            for t in soup.find('h5',{'id':'imTitle'}): \n",
    "                #tags = []\n",
    "                tag1 = t.text.replace('\\n','')\n",
    "                if tag1 != None:\n",
    "                    Tag.append(tag1)\n",
    "\n",
    "            for d in soup.find('div',{'class':'textdetail','id':'imDes'}): \n",
    "                #details = []\n",
    "                detail = d.text.replace('\\n','')\n",
    "                if detail != None:\n",
    "                    Detail.append(detail)\n",
    "                    \n",
    "            print ('no.',page)          \n",
    "    except:\n",
    "        pass\n",
    "\n"
   ]
  },
  {
   "cell_type": "code",
   "execution_count": null,
   "id": "db2ae936-5200-4690-bd0c-7bcfe62ae415",
   "metadata": {},
   "outputs": [],
   "source": [
    "#col = ['Exhibitor','Brand','About','Tag','Detail']\n",
    "table = pd.DataFrame([Exhibitor,Brand,About,Tag,Detail]).transpose()\n",
    "table.columns = ['Exhibitor','Brand','About','Tag','Detail']\n",
    "table\n",
    "\n",
    "#table.to_excel('data-bkkgem.xlsx', engine='openpyxl')"
   ]
  },
  {
   "cell_type": "code",
   "execution_count": null,
   "id": "346c7d7f-9fed-4bee-876b-5c40bb2b9021",
   "metadata": {},
   "outputs": [],
   "source": [
    "import json\n",
    "bkkgem = []"
   ]
  },
  {
   "cell_type": "code",
   "execution_count": null,
   "id": "b370064c-d160-416a-bee4-a5d6220f124a",
   "metadata": {
    "tags": []
   },
   "outputs": [],
   "source": [
    "table = table.to_dict('records')\n",
    "print (table)"
   ]
  },
  {
   "cell_type": "code",
   "execution_count": null,
   "id": "0832619d-e68f-4eb8-a0e7-1ad13e9da11c",
   "metadata": {},
   "outputs": [],
   "source": [
    "print (f\"page:{len(table)}\")"
   ]
  },
  {
   "cell_type": "code",
   "execution_count": null,
   "id": "8a3da86a-cc7e-492e-b1c0-784f7c8cee9d",
   "metadata": {},
   "outputs": [],
   "source": [
    "with open('bkkgem.json', 'w') as f:\n",
    "    json.dump(table, f)"
   ]
  },
  {
   "cell_type": "code",
   "execution_count": null,
   "id": "2360914f-1bba-47e7-bb0c-7ea609806464",
   "metadata": {},
   "outputs": [],
   "source": [
    "from dsmlibrary.datanode import DataNode"
   ]
  },
  {
   "cell_type": "code",
   "execution_count": null,
   "id": "cc3c009b-8dbc-463f-be2c-4caf4ae4126a",
   "metadata": {},
   "outputs": [],
   "source": [
    "dir_rawData_id = 87"
   ]
  },
  {
   "cell_type": "code",
   "execution_count": null,
   "id": "f7f3fb59-1ec0-4894-953e-2982a5de84da",
   "metadata": {},
   "outputs": [],
   "source": [
    "datanode = DataNode()"
   ]
  },
  {
   "cell_type": "code",
   "execution_count": null,
   "id": "f3c8fced-016d-438a-9310-5b564c815bfd",
   "metadata": {},
   "outputs": [],
   "source": [
    "datanode.upload_file(directory_id=dir_rawData_id, file_path='bkkgem.json')"
   ]
  },
  {
   "cell_type": "code",
   "execution_count": null,
   "id": "31839088-2935-4310-badc-0df5a804502e",
   "metadata": {},
   "outputs": [],
   "source": []
  },
  {
   "cell_type": "code",
   "execution_count": null,
   "id": "907a4de6-6c33-42b9-92a8-bbefa8e90679",
   "metadata": {},
   "outputs": [],
   "source": []
  }
 ],
 "metadata": {
  "kernelspec": {
   "display_name": "Python 3.9.13 ('dsi314')",
   "language": "python",
   "name": "python3"
  },
  "language_info": {
   "codemirror_mode": {
    "name": "ipython",
    "version": 3
   },
   "file_extension": ".py",
   "mimetype": "text/x-python",
   "name": "python",
   "nbconvert_exporter": "python",
   "pygments_lexer": "ipython3",
   "version": "3.9.13"
  },
  "vscode": {
   "interpreter": {
    "hash": "2595b37d496c7462f14cd4d2648159d6c1a73b556b9084c1c286c4890323be31"
   }
  }
 },
 "nbformat": 4,
 "nbformat_minor": 5
}
