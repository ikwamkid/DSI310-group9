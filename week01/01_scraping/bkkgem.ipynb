{
 "cells": [
  {
   "cell_type": "markdown",
   "id": "3a4a2333",
   "metadata": {},
   "source": [
    "# 01_scrap\n",
    "- scrapping data from bkkgems.com/exprofile/ and upload to DataPlatform"
   ]
  },
  {
   "cell_type": "code",
   "execution_count": 1,
   "id": "b1f0fee0-85c3-4b8e-b658-24371f7799c9",
   "metadata": {
    "tags": []
   },
   "outputs": [],
   "source": [
    "import bs4 \n",
    "import requests\n",
    "import pandas as pd\n",
    "from bs4 import BeautifulSoup\n",
    "\n",
    "page = 0\n",
    "Exhibitor = []\n",
    "Brand = []\n",
    "About = []\n",
    "Tag = []\n",
    "Detail = []\n",
    "\n",
    "while page <= 940:\n",
    "    page = page + 1\n",
    "    \n",
    "    try : \n",
    "            data = requests.get('https://www.bkkgems.com/exprofile/' + str(page))\n",
    "            soup = bs4.BeautifulSoup(data.text)  \n",
    "            for n in soup.find('span',{'id':'txtComname'}):  \n",
    "                #names = []\n",
    "                #name = soup.find('div',{'class':'col-12 text-center txt-upper'})\n",
    "                name1 = n.text.replace('\\n','')\n",
    "                if name1 != None:\n",
    "                    Exhibitor.append(name1)\n",
    "\n",
    "            for b in soup.find('div',{'class':'col-12 col-sm-8 col-md-12 col-lg-8 text textdetail'}): \n",
    "                #brands = []\n",
    "                brand = b.text.replace('\\n','')\n",
    "                if brand != None:\n",
    "                    Brand.append(brand)\n",
    "\n",
    "            for a in soup.find('div',{'class':'col-12 textdetail'}): \n",
    "                #abouts = []\n",
    "                about = a.text.replace('\\n','')\n",
    "                if about != None:\n",
    "                    About.append(about)\n",
    "\n",
    "            for t in soup.find('h5',{'id':'imTitle'}): \n",
    "                #tags = []\n",
    "                tag1 = t.text.replace('\\n','')\n",
    "                if tag1 != None:\n",
    "                    Tag.append(tag1)\n",
    "\n",
    "            for d in soup.find('div',{'class':'textdetail','id':'imDes'}): \n",
    "                #details = []\n",
    "                detail = d.text.replace('\\n','')\n",
    "                if detail != None:\n",
    "                    Detail.append(detail)\n",
    "                    \n",
    "            ### loading status ###\n",
    "            # print ('no.',page)          \n",
    "    except:\n",
    "        pass"
   ]
  },
  {
   "cell_type": "code",
   "execution_count": 2,
   "id": "db2ae936-5200-4690-bd0c-7bcfe62ae415",
   "metadata": {},
   "outputs": [
    {
     "data": {
      "text/html": [
       "<div>\n",
       "<style scoped>\n",
       "    .dataframe tbody tr th:only-of-type {\n",
       "        vertical-align: middle;\n",
       "    }\n",
       "\n",
       "    .dataframe tbody tr th {\n",
       "        vertical-align: top;\n",
       "    }\n",
       "\n",
       "    .dataframe thead th {\n",
       "        text-align: right;\n",
       "    }\n",
       "</style>\n",
       "<table border=\"1\" class=\"dataframe\">\n",
       "  <thead>\n",
       "    <tr style=\"text-align: right;\">\n",
       "      <th></th>\n",
       "      <th>Exhibitor</th>\n",
       "      <th>Brand</th>\n",
       "      <th>About</th>\n",
       "      <th>Tag</th>\n",
       "      <th>Detail</th>\n",
       "    </tr>\n",
       "  </thead>\n",
       "  <tbody>\n",
       "    <tr>\n",
       "      <th>0</th>\n",
       "      <td>Piyamitr.co.,ltd</td>\n",
       "      <td>Piyamitr, blue sapphires, Australian blue sapp...</td>\n",
       "      <td>Expertise, experience, service orientation and...</td>\n",
       "      <td>Australian Blue Sapphire #1 (Top deep blue)</td>\n",
       "      <td>We are cutting calibrated size in every shapes...</td>\n",
       "    </tr>\n",
       "    <tr>\n",
       "      <th>1</th>\n",
       "      <td>ACZET (Thailand) CO., Ltd</td>\n",
       "      <td>ACZET</td>\n",
       "      <td>We are manufacturer and suppliers of Gold Test...</td>\n",
       "      <td>Gold Testing X-rf Machine</td>\n",
       "      <td>This is a Gold Testing Machine with German Tec...</td>\n",
       "    </tr>\n",
       "    <tr>\n",
       "      <th>2</th>\n",
       "      <td>E&amp;W INDUSTRIAL SERVICE ASIA CO.,LTD.</td>\n",
       "      <td>Elma, Sta, Mafac, Sambol</td>\n",
       "      <td>Service &amp; Solutions2clean for the manufacturin...</td>\n",
       "      <td>Elma Ultrasonic</td>\n",
       "      <td>Ultrasonic cleaners</td>\n",
       "    </tr>\n",
       "    <tr>\n",
       "      <th>3</th>\n",
       "      <td>DIVINE GEMS CO., LTD.</td>\n",
       "      <td>DIVINE</td>\n",
       "      <td>-</td>\n",
       "      <td>RUBY</td>\n",
       "      <td>EMERALD</td>\n",
       "    </tr>\n",
       "    <tr>\n",
       "      <th>4</th>\n",
       "      <td>ROYAL INTER GOLD CO. LTD</td>\n",
       "      <td>RiG</td>\n",
       "      <td>FINE DIAMONDS JEWELRY</td>\n",
       "      <td>WHITE GOLD BANGLE</td>\n",
       "      <td>fine collection of diamond jewelry</td>\n",
       "    </tr>\n",
       "    <tr>\n",
       "      <th>...</th>\n",
       "      <td>...</td>\n",
       "      <td>...</td>\n",
       "      <td>...</td>\n",
       "      <td>...</td>\n",
       "      <td>...</td>\n",
       "    </tr>\n",
       "    <tr>\n",
       "      <th>845</th>\n",
       "      <td>MUNGKARA</td>\n",
       "      <td></td>\n",
       "      <td>-</td>\n",
       "      <td>None</td>\n",
       "      <td>Silver Costume Jewlery</td>\n",
       "    </tr>\n",
       "    <tr>\n",
       "      <th>846</th>\n",
       "      <td>None</td>\n",
       "      <td>None</td>\n",
       "      <td>-</td>\n",
       "      <td>None</td>\n",
       "      <td>None</td>\n",
       "    </tr>\n",
       "    <tr>\n",
       "      <th>847</th>\n",
       "      <td>None</td>\n",
       "      <td>None</td>\n",
       "      <td>-</td>\n",
       "      <td>None</td>\n",
       "      <td>None</td>\n",
       "    </tr>\n",
       "    <tr>\n",
       "      <th>848</th>\n",
       "      <td>None</td>\n",
       "      <td>None</td>\n",
       "      <td></td>\n",
       "      <td>None</td>\n",
       "      <td>None</td>\n",
       "    </tr>\n",
       "    <tr>\n",
       "      <th>849</th>\n",
       "      <td>None</td>\n",
       "      <td>None</td>\n",
       "      <td></td>\n",
       "      <td>None</td>\n",
       "      <td>None</td>\n",
       "    </tr>\n",
       "  </tbody>\n",
       "</table>\n",
       "<p>850 rows × 5 columns</p>\n",
       "</div>"
      ],
      "text/plain": [
       "                                Exhibitor  \\\n",
       "0                        Piyamitr.co.,ltd   \n",
       "1               ACZET (Thailand) CO., Ltd   \n",
       "2    E&W INDUSTRIAL SERVICE ASIA CO.,LTD.   \n",
       "3                   DIVINE GEMS CO., LTD.   \n",
       "4                ROYAL INTER GOLD CO. LTD   \n",
       "..                                    ...   \n",
       "845                              MUNGKARA   \n",
       "846                                  None   \n",
       "847                                  None   \n",
       "848                                  None   \n",
       "849                                  None   \n",
       "\n",
       "                                                 Brand  \\\n",
       "0    Piyamitr, blue sapphires, Australian blue sapp...   \n",
       "1                                                ACZET   \n",
       "2                             Elma, Sta, Mafac, Sambol   \n",
       "3                                               DIVINE   \n",
       "4                                                  RiG   \n",
       "..                                                 ...   \n",
       "845                                                      \n",
       "846                                               None   \n",
       "847                                               None   \n",
       "848                                               None   \n",
       "849                                               None   \n",
       "\n",
       "                                                 About  \\\n",
       "0    Expertise, experience, service orientation and...   \n",
       "1    We are manufacturer and suppliers of Gold Test...   \n",
       "2    Service & Solutions2clean for the manufacturin...   \n",
       "3                                                    -   \n",
       "4                                FINE DIAMONDS JEWELRY   \n",
       "..                                                 ...   \n",
       "845                                                  -   \n",
       "846                                                  -   \n",
       "847                                                  -   \n",
       "848                                                      \n",
       "849                                                      \n",
       "\n",
       "                                             Tag  \\\n",
       "0    Australian Blue Sapphire #1 (Top deep blue)   \n",
       "1                      Gold Testing X-rf Machine   \n",
       "2                                Elma Ultrasonic   \n",
       "3                                           RUBY   \n",
       "4                              WHITE GOLD BANGLE   \n",
       "..                                           ...   \n",
       "845                                         None   \n",
       "846                                         None   \n",
       "847                                         None   \n",
       "848                                         None   \n",
       "849                                         None   \n",
       "\n",
       "                                                Detail  \n",
       "0    We are cutting calibrated size in every shapes...  \n",
       "1    This is a Gold Testing Machine with German Tec...  \n",
       "2                                 Ultrasonic cleaners   \n",
       "3                                             EMERALD   \n",
       "4                  fine collection of diamond jewelry   \n",
       "..                                                 ...  \n",
       "845                            Silver Costume Jewlery   \n",
       "846                                               None  \n",
       "847                                               None  \n",
       "848                                               None  \n",
       "849                                               None  \n",
       "\n",
       "[850 rows x 5 columns]"
      ]
     },
     "execution_count": 2,
     "metadata": {},
     "output_type": "execute_result"
    }
   ],
   "source": [
    "table = pd.DataFrame([Exhibitor,Brand,About,Tag,Detail]).transpose()\n",
    "table.columns = ['Exhibitor','Brand','About','Tag','Detail']\n",
    "table\n",
    "\n",
    "#table.to_excel('data-bkkgem.xlsx', engine='openpyxl')"
   ]
  },
  {
   "cell_type": "markdown",
   "id": "d58fe2f2",
   "metadata": {},
   "source": [
    "- dump data to json file"
   ]
  },
  {
   "cell_type": "code",
   "execution_count": 3,
   "id": "346c7d7f-9fed-4bee-876b-5c40bb2b9021",
   "metadata": {},
   "outputs": [],
   "source": [
    "import json\n",
    "bkkgem = []"
   ]
  },
  {
   "cell_type": "code",
   "execution_count": 4,
   "id": "b370064c-d160-416a-bee4-a5d6220f124a",
   "metadata": {
    "tags": []
   },
   "outputs": [],
   "source": [
    "table = table.to_dict('records')\n",
    "#print (table)"
   ]
  },
  {
   "cell_type": "code",
   "execution_count": 5,
   "id": "0832619d-e68f-4eb8-a0e7-1ad13e9da11c",
   "metadata": {},
   "outputs": [
    {
     "name": "stdout",
     "output_type": "stream",
     "text": [
      "page:850\n"
     ]
    }
   ],
   "source": [
    "print (f\"page:{len(table)}\")"
   ]
  },
  {
   "cell_type": "code",
   "execution_count": 6,
   "id": "8a3da86a-cc7e-492e-b1c0-784f7c8cee9d",
   "metadata": {},
   "outputs": [],
   "source": [
    "with open('bkkgem.json', 'w') as f:\n",
    "    json.dump(table, f)"
   ]
  },
  {
   "cell_type": "markdown",
   "id": "9739463d",
   "metadata": {},
   "source": [
    "## Upload data to DataPlatform"
   ]
  },
  {
   "cell_type": "code",
   "execution_count": 7,
   "id": "2360914f-1bba-47e7-bb0c-7ea609806464",
   "metadata": {},
   "outputs": [],
   "source": [
    "from dsmlibrary.datanode import DataNode"
   ]
  },
  {
   "cell_type": "code",
   "execution_count": 8,
   "id": "cc3c009b-8dbc-463f-be2c-4caf4ae4126a",
   "metadata": {},
   "outputs": [],
   "source": [
    "dir_rawData_id = 87"
   ]
  },
  {
   "cell_type": "code",
   "execution_count": 9,
   "id": "f7f3fb59-1ec0-4894-953e-2982a5de84da",
   "metadata": {},
   "outputs": [
    {
     "name": "stdout",
     "output_type": "stream",
     "text": [
      "Init DataNode sucessful!\n"
     ]
    }
   ],
   "source": [
    "datanode = DataNode()"
   ]
  },
  {
   "cell_type": "code",
   "execution_count": 10,
   "id": "f3c8fced-016d-438a-9310-5b564c815bfd",
   "metadata": {},
   "outputs": [
    {
     "name": "stdin",
     "output_type": "stream",
     "text": [
      "File bkkgem.json alrady exists, do you want to replace y/n :  y\n"
     ]
    },
    {
     "data": {
      "application/vnd.jupyter.widget-view+json": {
       "model_id": "92dc2250f20047fb9772a0e4e45f38db",
       "version_major": 2,
       "version_minor": 0
      },
      "text/plain": [
       "  0%|          | 0.00/183k [00:00<?, ?B/s]"
      ]
     },
     "metadata": {},
     "output_type": "display_data"
    },
    {
     "data": {
      "text/plain": [
       "{'id': 177,\n",
       " 'msg': 'file bkkgem.json create sucessful',\n",
       " 'path': 'kanyalak/DSI310-09/rawData/bkkgem.json',\n",
       " 'uploaded': True}"
      ]
     },
     "execution_count": 10,
     "metadata": {},
     "output_type": "execute_result"
    }
   ],
   "source": [
    "datanode.upload_file(directory_id=dir_rawData_id, file_path='bkkgem.json')"
   ]
  }
 ],
 "metadata": {
  "kernelspec": {
   "display_name": "Python 3 (ipykernel)",
   "language": "python",
   "name": "python3"
  },
  "language_info": {
   "codemirror_mode": {
    "name": "ipython",
    "version": 3
   },
   "file_extension": ".py",
   "mimetype": "text/x-python",
   "name": "python",
   "nbconvert_exporter": "python",
   "pygments_lexer": "ipython3",
   "version": "3.10.5"
  },
  "vscode": {
   "interpreter": {
    "hash": "2595b37d496c7462f14cd4d2648159d6c1a73b556b9084c1c286c4890323be31"
   }
  }
 },
 "nbformat": 4,
 "nbformat_minor": 5
}
