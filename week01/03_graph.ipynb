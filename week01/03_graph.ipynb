{
 "cells": [
  {
   "cell_type": "code",
   "execution_count": null,
   "id": "7d10adb4-2da2-42b0-9664-4a6ac2d2c9c3",
   "metadata": {
    "tags": []
   },
   "outputs": [],
   "source": [
    "!pip install networkx"
   ]
  },
  {
   "cell_type": "code",
   "execution_count": null,
   "id": "81c2c898-2ebb-4809-a668-4e7cd5b6816b",
   "metadata": {},
   "outputs": [],
   "source": [
    "import collections\n",
    "import gzip\n",
    "import inspect\n",
    "import itertools\n",
    "import re"
   ]
  },
  {
   "cell_type": "code",
   "execution_count": null,
   "id": "14a66544-51a7-4686-a73c-6f685c8baf11",
   "metadata": {},
   "outputs": [],
   "source": [
    "from dsmlibrary.datanode import DataNode\n",
    "from tqdm.auto import tqdm"
   ]
  },
  {
   "cell_type": "code",
   "execution_count": null,
   "id": "22dc43fe-2a64-43cd-9261-76ac7721358c",
   "metadata": {},
   "outputs": [],
   "source": [
    "datanode = DataNode(token)"
   ]
  },
  {
   "cell_type": "code",
   "execution_count": null,
   "id": "e1d87f1e-ab16-4e5f-9ea9-07352ed22dbb",
   "metadata": {},
   "outputs": [],
   "source": [
    "dir_processData_id = 89"
   ]
  },
  {
   "cell_type": "code",
   "execution_count": null,
   "id": "8a9245b5-3237-45b4-831e-0a0770ea44f8",
   "metadata": {},
   "outputs": [],
   "source": [
    "df = datanode.read_df(datanode.get_file_id(directory_id=dir_processData_id, name=\"bkkgem.parquet\"))\n",
    "df"
   ]
  },
  {
   "cell_type": "code",
   "execution_count": null,
   "id": "68c495ed-04e0-4c9c-8e5c-92f6e6b23ebb",
   "metadata": {
    "tags": []
   },
   "outputs": [],
   "source": [
    "graph_data = [(elm.get('Exhibitor'), elm.get('Brand'), elm.get('About'), elm.get('Tag'), elm.get('Detail')) for elm in df.to_dict('records')]\n",
    "graph_data"
   ]
  },
  {
   "cell_type": "code",
   "execution_count": null,
   "id": "011c123d-2073-45a4-8c3d-b73720b28263",
   "metadata": {},
   "outputs": [],
   "source": [
    "import networkx as nx\n",
    "import numpy as np\n",
    "import matplotlib.pyplot as plt\n",
    "\n",
    "from bokeh.io import output_notebook, show, save\n",
    "from bokeh.models import Range1d, Circle, ColumnDataSource, MultiLine\n",
    "from bokeh.plotting import figure\n",
    "from bokeh.plotting import from_networkx"
   ]
  },
  {
   "cell_type": "code",
   "execution_count": null,
   "id": "fd4ccaf7-a2a6-4a07-8685-8a5b62605a1e",
   "metadata": {},
   "outputs": [],
   "source": [
    "output_notebook()"
   ]
  },
  {
   "cell_type": "code",
   "execution_count": null,
   "id": "5c6c5669-6c38-4929-bd90-f47ed4d32b73",
   "metadata": {
    "tags": []
   },
   "outputs": [],
   "source": [
    "bkkgem_titles = {elm:'name' for elm in list(df['Exhibitor'].unique())}\n",
    "bkkgem_titles"
   ]
  },
  {
   "cell_type": "code",
   "execution_count": null,
   "id": "61ff74f9-e91d-431d-80f5-fe8526d9a423",
   "metadata": {},
   "outputs": [],
   "source": [
    "node_colors = {elm:'skyblue' if elm in bkkgem_titles else 'yellow' for elm in G.nodes()}\n",
    "node_colors"
   ]
  },
  {
   "cell_type": "code",
   "execution_count": null,
   "id": "7c9bee0b-cdec-4116-a0fc-c692c89df5e3",
   "metadata": {},
   "outputs": [],
   "source": [
    "G = nx.Graph(graph_data)\n",
    "G"
   ]
  },
  {
   "cell_type": "code",
   "execution_count": null,
   "id": "694035b9-da3d-40a5-9833-9c02e776c0ed",
   "metadata": {},
   "outputs": [],
   "source": [
    "title = \"News and NameEntities\"\n",
    "HOVER_TOOLTIPS = [(\"Character\", \"@index\")]\n",
    "nx.set_node_attributes(G, node_colors, 'node_colors')\n",
    "plot = figure(tooltips = HOVER_TOOLTIPS,\n",
    "              tools=\"pan,wheel_zoom,save,reset,hover\", active_scroll='wheel_zoom',\n",
    "            x_range=Range1d(-10.1, 10.1), y_range=Range1d(-10.1, 10.1), title=title,\n",
    "              frame_width=1200, frame_height=800\n",
    " )\n",
    "\n",
    "network_graph = from_networkx(G, nx.kamada_kawai_layout, scale=10, center=(0, 0))\n",
    "network_graph.node_renderer.glyph = Circle(size=15, fill_color='node_colors')\n",
    "network_graph.edge_renderer.glyph = MultiLine(line_alpha=0.5, line_width=1)\n",
    "plot.renderers.append(network_graph)\n",
    "show(plot)"
   ]
  },
  {
   "cell_type": "code",
   "execution_count": null,
   "id": "be7e5d88-e1af-4eda-a147-a25146a1c504",
   "metadata": {},
   "outputs": [],
   "source": [
    "def cal_size(val, k=10, k2=1000):\n",
    "    val = val * k * k2\n",
    "    if val > k: \n",
    "        return val\n",
    "    return k"
   ]
  },
  {
   "cell_type": "code",
   "execution_count": null,
   "id": "c2b92276-e8aa-4b40-89fa-5a51acdd8d75",
   "metadata": {},
   "outputs": [],
   "source": [
    "graph_values = nx.centrality.betweenness.betweenness_centrality(G)\n",
    "node_size = {k:cal_size(v, k=10, k2=1000) for k,v in graph_values.items()}"
   ]
  },
  {
   "cell_type": "code",
   "execution_count": null,
   "id": "19f33ee3-af49-4173-a727-6145987c741c",
   "metadata": {},
   "outputs": [],
   "source": [
    "title = \"betweenness_centrality\"\n",
    "HOVER_TOOLTIPS = [(\"Character\", \"@index\")]\n",
    "\n",
    "nx.set_node_attributes(G, node_size, 'node_size')\n",
    "nx.set_node_attributes(G, node_colors, 'node_colors')\n",
    "\n",
    "plot = figure(tooltips = HOVER_TOOLTIPS,\n",
    "              tools=\"pan,wheel_zoom,save,reset,hover\", active_scroll='wheel_zoom',\n",
    "            x_range=Range1d(-10.1, 10.1), y_range=Range1d(-10.1, 10.1), title=title,\n",
    "              frame_width=1200, frame_height=800\n",
    ")\n",
    "\n",
    "network_graph = from_networkx(G, nx.kamada_kawai_layout, scale=10, center=(0, 0))\n",
    "network_graph.node_renderer.glyph = Circle(fill_color='node_colors', size='node_size')\n",
    "network_graph.edge_renderer.glyph = MultiLine(line_alpha=0.5, line_width=1)\n",
    "plot.renderers.append(network_graph)\n",
    "show(plot)"
   ]
  },
  {
   "cell_type": "code",
   "execution_count": null,
   "id": "97321225-d75b-42b5-afb6-51fb75fbba4c",
   "metadata": {},
   "outputs": [],
   "source": [
    "graph_values = nx.centrality.eigenvector.eigenvector_centrality(G, max_iter=600)\n",
    "node_size = {k:cal_size(v, k=10, k2=15) for k,v in graph_values.items()}"
   ]
  },
  {
   "cell_type": "code",
   "execution_count": null,
   "id": "34fe4a40-a76e-414d-b73b-ea381aefd78a",
   "metadata": {},
   "outputs": [],
   "source": [
    "title = \"xxx\"\n",
    "HOVER_TOOLTIPS = [(\"Character\", \"@index\")]\n",
    "\n",
    "nx.set_node_attributes(G, node_size, 'node_size') \n",
    "nx.set_node_attributes(G, node_colors, 'node_colors')\n",
    "\n",
    "plot = figure(tooltips = HOVER_TOOLTIPS,\n",
    "              tools=\"pan,wheel_zoom,save,reset,hover\", active_scroll='wheel_zoom',\n",
    "            x_range=Range1d(-10.1, 10.1), y_range=Range1d(-10.1, 10.1), title=title,\n",
    "              frame_width=1200, frame_height=800\n",
    ")\n",
    "\n",
    "network_graph = from_networkx(G, nx.kamada_kawai_layout, scale=10, center=(0, 0))\n",
    "network_graph.node_renderer.glyph = Circle(fill_color='node_colors', size='node_size')\n",
    "network_graph.edge_renderer.glyph = MultiLine(line_alpha=0.5, line_width=1)\n",
    "plot.renderers.append(network_graph)\n",
    "show(plot)"
   ]
  },
  {
   "cell_type": "code",
   "execution_count": null,
   "id": "66c24915-495d-4e6b-8c94-e902b4bd05a8",
   "metadata": {},
   "outputs": [],
   "source": []
  },
  {
   "cell_type": "code",
   "execution_count": null,
   "id": "25acaf7b-ba6f-4499-be80-c2d353e4dfd0",
   "metadata": {},
   "outputs": [],
   "source": []
  },
  {
   "cell_type": "code",
   "execution_count": null,
   "id": "90d7f8c1-16d1-4d36-8a1e-ce278118285a",
   "metadata": {},
   "outputs": [],
   "source": []
  }
 ],
 "metadata": {
  "kernelspec": {
   "display_name": "Python 3 (ipykernel)",
   "language": "python",
   "name": "python3"
  },
  "language_info": {
   "codemirror_mode": {
    "name": "ipython",
    "version": 3
   },
   "file_extension": ".py",
   "mimetype": "text/x-python",
   "name": "python",
   "nbconvert_exporter": "python",
   "pygments_lexer": "ipython3",
   "version": "3.10.5"
  }
 },
 "nbformat": 4,
 "nbformat_minor": 5
}
