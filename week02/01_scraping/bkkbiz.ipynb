{
 "cells": [
  {
   "cell_type": "markdown",
   "id": "7444ac53",
   "metadata": {},
   "source": [
    "# 01_scrap\n",
    "- scrapping data from bangkokbiznews.com/tags and upload to DataPlatform"
   ]
  },
  {
   "cell_type": "code",
   "execution_count": null,
   "id": "9cf84e2f",
   "metadata": {},
   "outputs": [],
   "source": [
    "import requests\n",
    "import bs4\n",
    "import pandas as pd\n",
    "\n",
    "title=[]\n",
    "date = []\n",
    "link = []\n",
    "details = []"
   ]
  },
  {
   "cell_type": "code",
   "execution_count": null,
   "id": "3bd9a83b",
   "metadata": {},
   "outputs": [],
   "source": [
    "data = requests.get('https://www.bangkokbiznews.com/tags/%E0%B8%AD%E0%B8%B1%E0%B8%8D%E0%B8%A1%E0%B8%93%E0%B8%B5%E0%B9%81%E0%B8%A5%E0%B8%B0%E0%B9%80%E0%B8%84%E0%B8%A3%E0%B8%B7%E0%B9%88%E0%B8%AD%E0%B8%87%E0%B8%9B%E0%B8%A3%E0%B8%B0%E0%B8%94%E0%B8%B1%E0%B8%9A')\n",
    "soup = bs4.BeautifulSoup(data.text,\"html.parser\")\n",
    "for i in range(0,12):\n",
    "    a = soup.find('div',{'id':str(i+1)})\n",
    "    title.append(a.find('div',{'class':'card-v-content'}).find('h3').text)\n",
    "    date.append(a.find('div',{'class':'card-v-content-meta'}).find('span').text.split(\"|\")[0])\n",
    "    link.append('https://www.bangkokbiznews.com'+str(a.find('a')['href']))\n",
    "    \n",
    "    ### all webpages we get ###\n",
    "    #print(str(a.find('a')['href']))    \n",
    "    \n",
    "    data2 = requests.get('https://www.bangkokbiznews.com'+str(a.find('a')['href']))\n",
    "    soup2 = bs4.BeautifulSoup(data2.text) \n",
    "    for a in soup2.find('div',{'id':'section-1'}): \n",
    "        #tags = []\n",
    "        top = a.text.replace('\\n','')\n",
    "        if top != None:\n",
    "            details.append(top)"
   ]
  },
  {
   "cell_type": "code",
   "execution_count": null,
   "id": "681c41ab",
   "metadata": {},
   "outputs": [],
   "source": [
    "table = pd.DataFrame([title,date,link,details]).transpose()\n",
    "table.columns = ['title','date','link','details']\n",
    "table"
   ]
  },
  {
   "cell_type": "code",
   "execution_count": null,
   "id": "be4f1f56",
   "metadata": {},
   "outputs": [],
   "source": [
    "#bk = []\n",
    "#table = table.to_dict('records')\n",
    "#print(table)"
   ]
  },
  {
   "cell_type": "markdown",
   "id": "1c69f500",
   "metadata": {},
   "source": [
    "- dump data to json file"
   ]
  },
  {
   "cell_type": "code",
   "execution_count": null,
   "id": "f77524ae",
   "metadata": {},
   "outputs": [],
   "source": [
    "import json\n",
    "bkkbiz = []"
   ]
  },
  {
   "cell_type": "code",
   "execution_count": null,
   "id": "e9ca37f2-68ac-4ad6-8755-721668a1d783",
   "metadata": {},
   "outputs": [],
   "source": [
    "table = table.to_dict('records')\n",
    "print (table)"
   ]
  },
  {
   "cell_type": "code",
   "execution_count": null,
   "id": "babcb6cd-f4b9-4972-a7ab-c52bd0b29cdd",
   "metadata": {},
   "outputs": [],
   "source": [
    "print (f\"page:{len(table)}\")"
   ]
  },
  {
   "cell_type": "code",
   "execution_count": null,
   "id": "011f5e68-3438-4bc3-86dd-5f0040a0a56b",
   "metadata": {},
   "outputs": [],
   "source": [
    "with open('bkkbiz.json', 'w') as f:\n",
    "    json.dump(table, f)"
   ]
  },
  {
   "cell_type": "markdown",
   "id": "ce5b77da",
   "metadata": {},
   "source": [
    "## Upload data to DataPlatform"
   ]
  },
  {
   "cell_type": "code",
   "execution_count": null,
   "id": "318f099e-8d0f-4b0e-9ded-763cc8e31f6e",
   "metadata": {},
   "outputs": [],
   "source": [
    "from dsmlibrary.datanode import DataNode"
   ]
  },
  {
   "cell_type": "code",
   "execution_count": null,
   "id": "7c1c21e1-06bb-46e8-a544-ba46a257d6a6",
   "metadata": {},
   "outputs": [],
   "source": [
    "dir_rawData_id = 87"
   ]
  },
  {
   "cell_type": "code",
   "execution_count": null,
   "id": "9f3388d5-9d89-4173-a3c6-0fcafc71620d",
   "metadata": {},
   "outputs": [],
   "source": [
    "datanode = DataNode()"
   ]
  },
  {
   "cell_type": "code",
   "execution_count": null,
   "id": "1ed734bb-fdf0-445e-af58-8e87626061e6",
   "metadata": {},
   "outputs": [],
   "source": [
    "datanode.upload_file(directory_id=dir_rawData_id, file_path='bkkbiz.json')"
   ]
  },
  {
   "cell_type": "code",
   "execution_count": null,
   "id": "9c1698b1-1d36-4bc0-948a-011c11481f6f",
   "metadata": {},
   "outputs": [],
   "source": []
  }
 ],
 "metadata": {
  "kernelspec": {
   "display_name": "Python 3 (ipykernel)",
   "language": "python",
   "name": "python3"
  },
  "language_info": {
   "codemirror_mode": {
    "name": "ipython",
    "version": 3
   },
   "file_extension": ".py",
   "mimetype": "text/x-python",
   "name": "python",
   "nbconvert_exporter": "python",
   "pygments_lexer": "ipython3",
   "version": "3.9.13"
  },
  "vscode": {
   "interpreter": {
    "hash": "2595b37d496c7462f14cd4d2648159d6c1a73b556b9084c1c286c4890323be31"
   }
  }
 },
 "nbformat": 4,
 "nbformat_minor": 5
}
