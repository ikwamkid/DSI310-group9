{
 "cells": [
  {
   "cell_type": "markdown",
   "id": "7444ac53",
   "metadata": {},
   "source": [
    "# 01_scrap\n",
    "- scrapping data from bangkokbiznews.com/tags and upload to DataPlatform"
   ]
  },
  {
   "cell_type": "code",
   "execution_count": 1,
   "id": "9cf84e2f",
   "metadata": {},
   "outputs": [],
   "source": [
    "import requests\n",
    "import bs4\n",
    "import pandas as pd\n",
    "\n",
    "title=[]\n",
    "date = []\n",
    "link = []\n",
    "details = []\n",
    "\n",
    "data = requests.get('https://www.bangkokbiznews.com/tags/%E0%B8%AD%E0%B8%B1%E0%B8%8D%E0%B8%A1%E0%B8%93%E0%B8%B5%E0%B9%81%E0%B8%A5%E0%B8%B0%E0%B9%80%E0%B8%84%E0%B8%A3%E0%B8%B7%E0%B9%88%E0%B8%AD%E0%B8%87%E0%B8%9B%E0%B8%A3%E0%B8%B0%E0%B8%94%E0%B8%B1%E0%B8%9A')\n",
    "soup = bs4.BeautifulSoup(data.text,\"html.parser\")\n",
    "for i in range(0,12):\n",
    "    a = soup.find('div',{'id':str(i+1)})\n",
    "    title.append(a.find('div',{'class':'card-v-content'}).find('h3').text)\n",
    "    date.append(a.find('div',{'class':'card-v-content-meta'}).find('span').text.split(\"|\")[0])\n",
    "    link.append('https://www.bangkokbiznews.com'+str(a.find('a')['href']))\n",
    "    \n",
    "    ### all webpages we get ###\n",
    "    #print(str(a.find('a')['href']))    \n",
    "    \n",
    "    data2 = requests.get('https://www.bangkokbiznews.com'+str(a.find('a')['href']))\n",
    "    soup2 = bs4.BeautifulSoup(data2.text) \n",
    "    for a in soup2.find('div',{'id':'section-1'}): \n",
    "        #tags = []\n",
    "        top = a.text.replace('\\n','')\n",
    "        if top != None:\n",
    "            details.append(top)"
   ]
  },
  {
   "cell_type": "code",
   "execution_count": 2,
   "id": "681c41ab",
   "metadata": {},
   "outputs": [
    {
     "data": {
      "text/html": [
       "<div>\n",
       "<style scoped>\n",
       "    .dataframe tbody tr th:only-of-type {\n",
       "        vertical-align: middle;\n",
       "    }\n",
       "\n",
       "    .dataframe tbody tr th {\n",
       "        vertical-align: top;\n",
       "    }\n",
       "\n",
       "    .dataframe thead th {\n",
       "        text-align: right;\n",
       "    }\n",
       "</style>\n",
       "<table border=\"1\" class=\"dataframe\">\n",
       "  <thead>\n",
       "    <tr style=\"text-align: right;\">\n",
       "      <th></th>\n",
       "      <th>title</th>\n",
       "      <th>date</th>\n",
       "      <th>link</th>\n",
       "      <th>details</th>\n",
       "    </tr>\n",
       "  </thead>\n",
       "  <tbody>\n",
       "    <tr>\n",
       "      <th>0</th>\n",
       "      <td>ท่องเที่ยวฟื้น บาทอ่อน หนุนส่งออกส่งออกอัญมณีฯ...</td>\n",
       "      <td>03 พ.ย. 2565</td>\n",
       "      <td>https://www.bangkokbiznews.com/business/1035784</td>\n",
       "      <td>เศรษฐกิจท่องเที่ยวฟื้น บาทอ่อน หนุนส่งออกส่งออ...</td>\n",
       "    </tr>\n",
       "    <tr>\n",
       "      <th>1</th>\n",
       "      <td>“สินิตย์”สั่งการจีไอที ทำโปรเจกต์ “ล่องใต้” ช่...</td>\n",
       "      <td>06 ต.ค. 2565</td>\n",
       "      <td>https://www.bangkokbiznews.com/business/1030910</td>\n",
       "      <td>เศรษฐกิจ“สินิตย์”สั่งการจีไอที ทำโปรเจกต์ “ล่อ...</td>\n",
       "    </tr>\n",
       "    <tr>\n",
       "      <th>2</th>\n",
       "      <td>งานบางกอกเจมส์ คาด 5 วันทำยอดขายทะลุ 3 พันล้านบาท</td>\n",
       "      <td>09 ก.ย. 2565</td>\n",
       "      <td>https://www.bangkokbiznews.com/business/1025823</td>\n",
       "      <td>เศรษฐกิจงานบางกอกเจมส์ คาด 5 วันทำยอดขายทะลุ 3...</td>\n",
       "    </tr>\n",
       "    <tr>\n",
       "      <th>3</th>\n",
       "      <td>จีไอทีเดินหน้า สร้างความเชื่อมั่นซื้ออัญมณีและ...</td>\n",
       "      <td>08 ก.ย. 2565</td>\n",
       "      <td>https://www.bangkokbiznews.com/business/1025552</td>\n",
       "      <td>เศรษฐกิจจีไอทีเดินหน้า สร้างความเชื่อมั่นซื้ออ...</td>\n",
       "    </tr>\n",
       "    <tr>\n",
       "      <th>4</th>\n",
       "      <td>“สินิตย์”มอบโล่พระราชทาน ให้กับผู้ชนะการประกวด...</td>\n",
       "      <td>06 ก.ย. 2565</td>\n",
       "      <td>https://www.bangkokbiznews.com/business/1025065</td>\n",
       "      <td>เศรษฐกิจ“สินิตย์”มอบโล่พระราชทาน ให้กับผู้ชนะก...</td>\n",
       "    </tr>\n",
       "    <tr>\n",
       "      <th>5</th>\n",
       "      <td>ไทยส่งออกอัญมณีและเครื่องประดับครึ่งปีแรก 65 โ...</td>\n",
       "      <td>17 ส.ค. 2565</td>\n",
       "      <td>https://www.bangkokbiznews.com/business/1021394</td>\n",
       "      <td>เศรษฐกิจไทยส่งออกอัญมณีและเครื่องประดับครึ่งปี...</td>\n",
       "    </tr>\n",
       "    <tr>\n",
       "      <th>6</th>\n",
       "      <td>พาณิชย์พร้อมจัดงาน Bangkok Gems and Jewelry Fa...</td>\n",
       "      <td>09 ส.ค. 2565</td>\n",
       "      <td>https://www.bangkokbiznews.com/business/1019947</td>\n",
       "      <td>เศรษฐกิจพาณิชย์พร้อมจัดงาน Bangkok Gems and Je...</td>\n",
       "    </tr>\n",
       "    <tr>\n",
       "      <th>7</th>\n",
       "      <td>เปิดเมืองทั่วโลก ดันส่งออกส่งออกอัญมณีและเครื่...</td>\n",
       "      <td>14 ก.ค. 2565</td>\n",
       "      <td>https://www.bangkokbiznews.com/business/1015336</td>\n",
       "      <td>เศรษฐกิจเปิดเมืองทั่วโลก ดันส่งออกส่งออกอัญมณี...</td>\n",
       "    </tr>\n",
       "    <tr>\n",
       "      <th>8</th>\n",
       "      <td>โควิดคลี่คลาย –ไทยเปิดประเทศ แรงส่งอัญมณีและเค...</td>\n",
       "      <td>18 มิ.ย. 2565</td>\n",
       "      <td>https://www.bangkokbiznews.com/business/1010600</td>\n",
       "      <td>เศรษฐกิจโควิดคลี่คลาย –ไทยเปิดประเทศ แรงส่งอัญ...</td>\n",
       "    </tr>\n",
       "    <tr>\n",
       "      <th>9</th>\n",
       "      <td>ตลาดฟื้นดันส่งออกอัญมณีและเครื่องประดับไทย 4 เ...</td>\n",
       "      <td>09 มิ.ย. 2565</td>\n",
       "      <td>https://www.bangkokbiznews.com/business/1009089</td>\n",
       "      <td>เศรษฐกิจตลาดฟื้นดันส่งออกอัญมณีและเครื่องประดั...</td>\n",
       "    </tr>\n",
       "    <tr>\n",
       "      <th>10</th>\n",
       "      <td>จีไอทีเตือนภัย ช้อปอัญมณีและเครื่องประดับออนไล...</td>\n",
       "      <td>08 มี.ค. 2565</td>\n",
       "      <td>https://www.bangkokbiznews.com/business/992324</td>\n",
       "      <td>เศรษฐกิจจีไอทีเตือนภัย ช้อปอัญมณีและเครื่องประ...</td>\n",
       "    </tr>\n",
       "    <tr>\n",
       "      <th>11</th>\n",
       "      <td>ส่งออกอัญมณี และเครื่องประดับ ปี 64 โต 26.94%</td>\n",
       "      <td>09 ก.พ. 2565</td>\n",
       "      <td>https://www.bangkokbiznews.com/business/987415</td>\n",
       "      <td>เศรษฐกิจส่งออกอัญมณี และเครื่องประดับ ปี 64 โต...</td>\n",
       "    </tr>\n",
       "  </tbody>\n",
       "</table>\n",
       "</div>"
      ],
      "text/plain": [
       "                                                title            date  \\\n",
       "0   ท่องเที่ยวฟื้น บาทอ่อน หนุนส่งออกส่งออกอัญมณีฯ...   03 พ.ย. 2565    \n",
       "1   “สินิตย์”สั่งการจีไอที ทำโปรเจกต์ “ล่องใต้” ช่...   06 ต.ค. 2565    \n",
       "2   งานบางกอกเจมส์ คาด 5 วันทำยอดขายทะลุ 3 พันล้านบาท   09 ก.ย. 2565    \n",
       "3   จีไอทีเดินหน้า สร้างความเชื่อมั่นซื้ออัญมณีและ...   08 ก.ย. 2565    \n",
       "4   “สินิตย์”มอบโล่พระราชทาน ให้กับผู้ชนะการประกวด...   06 ก.ย. 2565    \n",
       "5   ไทยส่งออกอัญมณีและเครื่องประดับครึ่งปีแรก 65 โ...   17 ส.ค. 2565    \n",
       "6   พาณิชย์พร้อมจัดงาน Bangkok Gems and Jewelry Fa...   09 ส.ค. 2565    \n",
       "7   เปิดเมืองทั่วโลก ดันส่งออกส่งออกอัญมณีและเครื่...   14 ก.ค. 2565    \n",
       "8   โควิดคลี่คลาย –ไทยเปิดประเทศ แรงส่งอัญมณีและเค...  18 มิ.ย. 2565    \n",
       "9   ตลาดฟื้นดันส่งออกอัญมณีและเครื่องประดับไทย 4 เ...  09 มิ.ย. 2565    \n",
       "10  จีไอทีเตือนภัย ช้อปอัญมณีและเครื่องประดับออนไล...  08 มี.ค. 2565    \n",
       "11      ส่งออกอัญมณี และเครื่องประดับ ปี 64 โต 26.94%   09 ก.พ. 2565    \n",
       "\n",
       "                                               link  \\\n",
       "0   https://www.bangkokbiznews.com/business/1035784   \n",
       "1   https://www.bangkokbiznews.com/business/1030910   \n",
       "2   https://www.bangkokbiznews.com/business/1025823   \n",
       "3   https://www.bangkokbiznews.com/business/1025552   \n",
       "4   https://www.bangkokbiznews.com/business/1025065   \n",
       "5   https://www.bangkokbiznews.com/business/1021394   \n",
       "6   https://www.bangkokbiznews.com/business/1019947   \n",
       "7   https://www.bangkokbiznews.com/business/1015336   \n",
       "8   https://www.bangkokbiznews.com/business/1010600   \n",
       "9   https://www.bangkokbiznews.com/business/1009089   \n",
       "10   https://www.bangkokbiznews.com/business/992324   \n",
       "11   https://www.bangkokbiznews.com/business/987415   \n",
       "\n",
       "                                              details  \n",
       "0   เศรษฐกิจท่องเที่ยวฟื้น บาทอ่อน หนุนส่งออกส่งออ...  \n",
       "1   เศรษฐกิจ“สินิตย์”สั่งการจีไอที ทำโปรเจกต์ “ล่อ...  \n",
       "2   เศรษฐกิจงานบางกอกเจมส์ คาด 5 วันทำยอดขายทะลุ 3...  \n",
       "3   เศรษฐกิจจีไอทีเดินหน้า สร้างความเชื่อมั่นซื้ออ...  \n",
       "4   เศรษฐกิจ“สินิตย์”มอบโล่พระราชทาน ให้กับผู้ชนะก...  \n",
       "5   เศรษฐกิจไทยส่งออกอัญมณีและเครื่องประดับครึ่งปี...  \n",
       "6   เศรษฐกิจพาณิชย์พร้อมจัดงาน Bangkok Gems and Je...  \n",
       "7   เศรษฐกิจเปิดเมืองทั่วโลก ดันส่งออกส่งออกอัญมณี...  \n",
       "8   เศรษฐกิจโควิดคลี่คลาย –ไทยเปิดประเทศ แรงส่งอัญ...  \n",
       "9   เศรษฐกิจตลาดฟื้นดันส่งออกอัญมณีและเครื่องประดั...  \n",
       "10  เศรษฐกิจจีไอทีเตือนภัย ช้อปอัญมณีและเครื่องประ...  \n",
       "11  เศรษฐกิจส่งออกอัญมณี และเครื่องประดับ ปี 64 โต...  "
      ]
     },
     "execution_count": 2,
     "metadata": {},
     "output_type": "execute_result"
    }
   ],
   "source": [
    "table = pd.DataFrame([title,date,link,details]).transpose()\n",
    "table.columns = ['title','date','link','details']\n",
    "table"
   ]
  },
  {
   "cell_type": "markdown",
   "id": "1c69f500",
   "metadata": {},
   "source": [
    "- dump data to json file"
   ]
  },
  {
   "cell_type": "code",
   "execution_count": 3,
   "id": "f77524ae",
   "metadata": {},
   "outputs": [],
   "source": [
    "import json\n",
    "bkkbiz = []"
   ]
  },
  {
   "cell_type": "code",
   "execution_count": 4,
   "id": "e9ca37f2-68ac-4ad6-8755-721668a1d783",
   "metadata": {},
   "outputs": [],
   "source": [
    "table = table.to_dict('records')\n",
    "#print (table)"
   ]
  },
  {
   "cell_type": "code",
   "execution_count": 5,
   "id": "babcb6cd-f4b9-4972-a7ab-c52bd0b29cdd",
   "metadata": {},
   "outputs": [
    {
     "name": "stdout",
     "output_type": "stream",
     "text": [
      "page:12\n"
     ]
    }
   ],
   "source": [
    "print (f\"page:{len(table)}\")"
   ]
  },
  {
   "cell_type": "code",
   "execution_count": 6,
   "id": "011f5e68-3438-4bc3-86dd-5f0040a0a56b",
   "metadata": {},
   "outputs": [],
   "source": [
    "with open('bkkbiz.json', 'w') as f:\n",
    "    json.dump(table, f)"
   ]
  },
  {
   "cell_type": "markdown",
   "id": "ce5b77da",
   "metadata": {},
   "source": [
    "## Upload data to DataPlatform"
   ]
  },
  {
   "cell_type": "code",
   "execution_count": 7,
   "id": "318f099e-8d0f-4b0e-9ded-763cc8e31f6e",
   "metadata": {},
   "outputs": [],
   "source": [
    "from dsmlibrary.datanode import DataNode"
   ]
  },
  {
   "cell_type": "code",
   "execution_count": 8,
   "id": "7c1c21e1-06bb-46e8-a544-ba46a257d6a6",
   "metadata": {},
   "outputs": [],
   "source": [
    "dir_rawData_id = 87"
   ]
  },
  {
   "cell_type": "code",
   "execution_count": 9,
   "id": "9f3388d5-9d89-4173-a3c6-0fcafc71620d",
   "metadata": {},
   "outputs": [
    {
     "name": "stdout",
     "output_type": "stream",
     "text": [
      "Init DataNode sucessful!\n"
     ]
    }
   ],
   "source": [
    "datanode = DataNode()"
   ]
  },
  {
   "cell_type": "code",
   "execution_count": null,
   "id": "1ed734bb-fdf0-445e-af58-8e87626061e6",
   "metadata": {},
   "outputs": [],
   "source": [
    "datanode.upload_file(directory_id=dir_rawData_id, file_path='bkkbiz.json')"
   ]
  },
  {
   "cell_type": "code",
   "execution_count": null,
   "id": "f329220d-cfc8-4d25-85d1-5dcb9be0831d",
   "metadata": {},
   "outputs": [],
   "source": []
  }
 ],
 "metadata": {
  "kernelspec": {
   "display_name": "Python 3 (ipykernel)",
   "language": "python",
   "name": "python3"
  },
  "language_info": {
   "codemirror_mode": {
    "name": "ipython",
    "version": 3
   },
   "file_extension": ".py",
   "mimetype": "text/x-python",
   "name": "python",
   "nbconvert_exporter": "python",
   "pygments_lexer": "ipython3",
   "version": "3.10.5"
  },
  "vscode": {
   "interpreter": {
    "hash": "2595b37d496c7462f14cd4d2648159d6c1a73b556b9084c1c286c4890323be31"
   }
  }
 },
 "nbformat": 4,
 "nbformat_minor": 5
}
