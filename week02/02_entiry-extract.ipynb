{
 "cells": [
  {
   "cell_type": "markdown",
   "id": "0f175314-e404-4cb4-9f12-897924a34727",
   "metadata": {},
   "source": [
    "# 02_entiry-extract"
   ]
  },
  {
   "cell_type": "markdown",
   "id": "18a45633-ddcf-4ccf-92f3-97c1e9d46263",
   "metadata": {
    "tags": []
   },
   "source": [
    "### read stored data from DataPlatform"
   ]
  },
  {
   "cell_type": "code",
   "execution_count": 44,
   "id": "0a7869a4-71c6-40ba-b44b-939bcc931bb5",
   "metadata": {},
   "outputs": [],
   "source": [
    "from dsmlibrary.datanode import DataNode\n",
    "import json\n",
    "from tqdm.auto import tqdm\n",
    "import pandas as pd"
   ]
  },
  {
   "cell_type": "code",
   "execution_count": 45,
   "id": "4ed3a7db-a98f-4a59-80a3-78571d69918f",
   "metadata": {},
   "outputs": [],
   "source": [
    "dir_rawData_id = 87\n",
    "dir_processData_id = 89"
   ]
  },
  {
   "cell_type": "code",
   "execution_count": 46,
   "id": "4fdf5bda-5b34-4921-b8ef-c17fd053bb68",
   "metadata": {},
   "outputs": [
    {
     "name": "stdout",
     "output_type": "stream",
     "text": [
      "Init DataNode sucessful!\n"
     ]
    }
   ],
   "source": [
    "datanode = DataNode()"
   ]
  },
  {
   "cell_type": "code",
   "execution_count": 47,
   "id": "b1960936-963c-4d30-8f0c-bdcd4ac645bd",
   "metadata": {
    "tags": []
   },
   "outputs": [
    {
     "data": {
      "text/plain": [
       "{'owner': 'kanyalak',\n",
       " 'human_size': '327.87 KB',\n",
       " 'name': 'bkkbiz.json',\n",
       " 'description': 'file bkkbiz.json',\n",
       " 'directory': 87,\n",
       " 'path': 'kanyalak/DSI310-09/rawData/bkkbiz.json'}"
      ]
     },
     "execution_count": 47,
     "metadata": {},
     "output_type": "execute_result"
    }
   ],
   "source": [
    "meta, fp = datanode.get_file(datanode.get_file_id(directory_id=dir_rawData_id, name='bkkbiz.json'))\n",
    "meta"
   ]
  },
  {
   "cell_type": "code",
   "execution_count": null,
   "id": "395ed0ae-e054-4d04-8234-6c28708287b5",
   "metadata": {
    "tags": []
   },
   "outputs": [],
   "source": [
    "data = json.load(fp)\n",
    "data"
   ]
  },
  {
   "cell_type": "code",
   "execution_count": 40,
   "id": "50df6283-bb77-4ab3-81e7-524fb544802d",
   "metadata": {},
   "outputs": [],
   "source": [
    "df = pd.json_normalize(data)"
   ]
  },
  {
   "cell_type": "markdown",
   "id": "4b742561-13ed-4a3f-87a1-af04f46932f3",
   "metadata": {},
   "source": [
    "### write DataNode to DataPlatform"
   ]
  },
  {
   "cell_type": "code",
   "execution_count": 43,
   "id": "48d1fb6c-695b-4a64-93e7-cbd475eb5bbd",
   "metadata": {},
   "outputs": [
    {
     "name": "stdin",
     "output_type": "stream",
     "text": [
      "File week02_bkkbiz.parquet alrady exists, do you want to replace y/n :  ัy\n"
     ]
    },
    {
     "data": {
      "text/plain": [
       "{'sucess': True,\n",
       " 'file_id': 493,\n",
       " 'path': 'kanyalak/DSI310-09/processData/week02_bkkbiz (2).parquet',\n",
       " 'lineage': True}"
      ]
     },
     "execution_count": 43,
     "metadata": {},
     "output_type": "execute_result"
    }
   ],
   "source": [
    "datanode.write( df=df, \n",
    "                directory=dir_processData_id, \n",
    "                name=\"week02_bkkbiz\", \n",
    "                profiling=True, \n",
    "                lineage=[datanode.get_file_id(directory_id=dir_rawData_id, name='bkkbiz.json')])"
   ]
  },
  {
   "cell_type": "code",
   "execution_count": null,
   "id": "6493bfec-c54d-4938-bc0f-c17a404f8a25",
   "metadata": {},
   "outputs": [],
   "source": []
  }
 ],
 "metadata": {
  "kernelspec": {
   "display_name": "Python 3 (ipykernel)",
   "language": "python",
   "name": "python3"
  },
  "language_info": {
   "codemirror_mode": {
    "name": "ipython",
    "version": 3
   },
   "file_extension": ".py",
   "mimetype": "text/x-python",
   "name": "python",
   "nbconvert_exporter": "python",
   "pygments_lexer": "ipython3",
   "version": "3.10.5"
  }
 },
 "nbformat": 4,
 "nbformat_minor": 5
}
