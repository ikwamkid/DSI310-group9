{
 "cells": [
  {
   "cell_type": "markdown",
   "metadata": {},
   "source": [
    "# 01_scrap\n",
    "- scrapping data from thaigemjewelry.or.th/member and upload to DataPlatform"
   ]
  },
  {
   "cell_type": "markdown",
   "metadata": {},
   "source": [
    "## Selenium login process"
   ]
  },
  {
   "cell_type": "code",
   "execution_count": 1,
   "metadata": {},
   "outputs": [],
   "source": [
    "from selenium import webdriver\n",
    "from selenium.webdriver.common.by import By\n",
    "from selenium.webdriver.common.keys import Keys\n",
    "import time\n",
    "import bs4 \n",
    "import requests\n",
    "import pandas as pd\n",
    "from bs4 import BeautifulSoup\n",
    "\n",
    "username = \"ikwamkid@outlook.com\"\n",
    "password = \"12345678\"\n",
    "\n",
    "driver = webdriver.Chrome(executable_path=r'C:\\Users\\Admin\\Documents\\GitHub\\tryme_selenium\\chromedriver\\chromedriver')\n",
    "driver.get('https://www.thaigemjewelry.or.th/member?page=1')\n",
    "\n",
    "# กดปุ่ม log in\n",
    "login = driver.find_element_by_xpath('/html/body/div[1]/div[2]/div[2]/a').click()\n",
    "\n",
    "# ป้อน username/password\n",
    "time.sleep(2)\n",
    "user = driver.find_element_by_xpath('/html/body/div[3]/div/div/div[2]/form/div/div[1]/input')\n",
    "pas = driver.find_element_by_xpath('/html/body/div[3]/div/div/div[2]/form/div/div[2]/input')\n",
    "time.sleep(2)\n",
    "user.send_keys(username)\n",
    "pas.send_keys(password + Keys.ENTER)\n",
    "\n",
    "# กลับไปกดเพจ member directory\n",
    "time.sleep(2)\n",
    "member = driver.find_element_by_xpath('/html/body/nav/div/div[3]/ul/li[3]/a').click()\n",
    "memberdir = driver.find_element_by_xpath('/html/body/nav/div/div[3]/ul/li[3]/ul/li[1]/a').click()\n",
    "\n",
    "#Zoom out เพื่อให้ load ทั่วหน้าจอ\n",
    "driver.execute_script(\"document.body.style.Transform='scale(0.1)';\")\n",
    "driver.execute_script('document.body.style.TransformOrigin = \"0 0\";')\n",
    "\n",
    "# ปิด cookie policy\n",
    "cookie_button = driver.find_element_by_xpath('/html/body/div[20]/button').click()"
   ]
  },
  {
   "cell_type": "markdown",
   "metadata": {},
   "source": [
    "## Scraping Process"
   ]
  },
  {
   "cell_type": "code",
   "execution_count": 25,
   "metadata": {},
   "outputs": [],
   "source": [
    "name = []\n",
    "product_type = []\n",
    "bussiness_type = []\n",
    "\n",
    "for i in range(77):\n",
    "    url = \"https://www.thaigemjewelry.or.th/member?page=\" + str(i+1)\n",
    "    driver.get(url)\n",
    "\n",
    "    #shop = driver.find_elements_by_xpath('/html/body/section/div/div[3]/div/div/div[2]/div')\n",
    "    for nm in driver.find_elements_by_css_selector('body > section > div > div.row > div > div > div.w-50.position-relative.member-text > div > h5'):\n",
    "        name.append(nm.text)\n",
    "\n",
    "    for pt in driver.find_elements_by_css_selector('body > section > div > div.row > div > div > div.w-50.position-relative.member-text > div > div.cate-type.mb-2 > p'):\n",
    "        product_type.append(pt.text)\n",
    "\n",
    "    for bt in driver.find_elements_by_css_selector('body > section > div > div.row > div > div > div.w-50.position-relative.member-text > div > div:nth-child(3) > p'):\n",
    "        bussiness_type.append(bt.text)\n",
    "\n",
    "driver.quit() "
   ]
  },
  {
   "cell_type": "code",
   "execution_count": 27,
   "metadata": {},
   "outputs": [
    {
     "data": {
      "text/html": [
       "<div>\n",
       "<style scoped>\n",
       "    .dataframe tbody tr th:only-of-type {\n",
       "        vertical-align: middle;\n",
       "    }\n",
       "\n",
       "    .dataframe tbody tr th {\n",
       "        vertical-align: top;\n",
       "    }\n",
       "\n",
       "    .dataframe thead th {\n",
       "        text-align: right;\n",
       "    }\n",
       "</style>\n",
       "<table border=\"1\" class=\"dataframe\">\n",
       "  <thead>\n",
       "    <tr style=\"text-align: right;\">\n",
       "      <th></th>\n",
       "      <th>name</th>\n",
       "      <th>product_type</th>\n",
       "      <th>bussiness_type</th>\n",
       "    </tr>\n",
       "  </thead>\n",
       "  <tbody>\n",
       "    <tr>\n",
       "      <th>0</th>\n",
       "      <td>PAUL WILD (THAILAND) CO.,LTD.</td>\n",
       "      <td>Gemstones</td>\n",
       "      <td>Wholesaler, Exporter</td>\n",
       "    </tr>\n",
       "    <tr>\n",
       "      <th>1</th>\n",
       "      <td>RESSIGEAC GEMS CO.,LTD.</td>\n",
       "      <td>Gemstones</td>\n",
       "      <td>Wholesaler, Exporter</td>\n",
       "    </tr>\n",
       "    <tr>\n",
       "      <th>2</th>\n",
       "      <td>YU FENG JEWELRY CO.,LTD.</td>\n",
       "      <td>Gemstones</td>\n",
       "      <td>Retailer, Wholesaler, Importer, Exporter</td>\n",
       "    </tr>\n",
       "    <tr>\n",
       "      <th>3</th>\n",
       "      <td>EMERALD MINES CO.,LTD.</td>\n",
       "      <td>Gemstones</td>\n",
       "      <td>Retailer, Wholesaler, Importer, Exporter</td>\n",
       "    </tr>\n",
       "    <tr>\n",
       "      <th>4</th>\n",
       "      <td>LA SIAM GEMS INTER CO.,LTD.</td>\n",
       "      <td>Gemsotnes,Precious and Semi Precious Stones</td>\n",
       "      <td>Exporter, Importer, Wholesaler, Retailer</td>\n",
       "    </tr>\n",
       "    <tr>\n",
       "      <th>...</th>\n",
       "      <td>...</td>\n",
       "      <td>...</td>\n",
       "      <td>...</td>\n",
       "    </tr>\n",
       "    <tr>\n",
       "      <th>1530</th>\n",
       "      <td>THANUSA CO.,LTD.</td>\n",
       "      <td>None</td>\n",
       "      <td>None</td>\n",
       "    </tr>\n",
       "    <tr>\n",
       "      <th>1531</th>\n",
       "      <td>PATCHARA GALLERY CO.,LTD.</td>\n",
       "      <td>None</td>\n",
       "      <td>None</td>\n",
       "    </tr>\n",
       "    <tr>\n",
       "      <th>1532</th>\n",
       "      <td>PWK JEWELRY COMPANY LIMITED</td>\n",
       "      <td>None</td>\n",
       "      <td>None</td>\n",
       "    </tr>\n",
       "    <tr>\n",
       "      <th>1533</th>\n",
       "      <td>THAI COLOR STONES TRADE ASSOCIATION</td>\n",
       "      <td>None</td>\n",
       "      <td>None</td>\n",
       "    </tr>\n",
       "    <tr>\n",
       "      <th>1534</th>\n",
       "      <td>SAKORN AND SONS CO.,LTD.</td>\n",
       "      <td>None</td>\n",
       "      <td>None</td>\n",
       "    </tr>\n",
       "  </tbody>\n",
       "</table>\n",
       "<p>1535 rows × 3 columns</p>\n",
       "</div>"
      ],
      "text/plain": [
       "                                     name  \\\n",
       "0           PAUL WILD (THAILAND) CO.,LTD.   \n",
       "1                 RESSIGEAC GEMS CO.,LTD.   \n",
       "2                YU FENG JEWELRY CO.,LTD.   \n",
       "3                  EMERALD MINES CO.,LTD.   \n",
       "4             LA SIAM GEMS INTER CO.,LTD.   \n",
       "...                                   ...   \n",
       "1530                     THANUSA CO.,LTD.   \n",
       "1531            PATCHARA GALLERY CO.,LTD.   \n",
       "1532          PWK JEWELRY COMPANY LIMITED   \n",
       "1533  THAI COLOR STONES TRADE ASSOCIATION   \n",
       "1534             SAKORN AND SONS CO.,LTD.   \n",
       "\n",
       "                                     product_type  \\\n",
       "0                                       Gemstones   \n",
       "1                                       Gemstones   \n",
       "2                                       Gemstones   \n",
       "3                                       Gemstones   \n",
       "4     Gemsotnes,Precious and Semi Precious Stones   \n",
       "...                                           ...   \n",
       "1530                                         None   \n",
       "1531                                         None   \n",
       "1532                                         None   \n",
       "1533                                         None   \n",
       "1534                                         None   \n",
       "\n",
       "                                bussiness_type  \n",
       "0                         Wholesaler, Exporter  \n",
       "1                         Wholesaler, Exporter  \n",
       "2     Retailer, Wholesaler, Importer, Exporter  \n",
       "3     Retailer, Wholesaler, Importer, Exporter  \n",
       "4     Exporter, Importer, Wholesaler, Retailer  \n",
       "...                                        ...  \n",
       "1530                                      None  \n",
       "1531                                      None  \n",
       "1532                                      None  \n",
       "1533                                      None  \n",
       "1534                                      None  \n",
       "\n",
       "[1535 rows x 3 columns]"
      ]
     },
     "execution_count": 27,
     "metadata": {},
     "output_type": "execute_result"
    }
   ],
   "source": [
    "table = pd.DataFrame([name,product_type,bussiness_type]).transpose()\n",
    "table.columns = ['name','product_type','bussiness_type']\n",
    "table"
   ]
  },
  {
   "cell_type": "code",
   "execution_count": 29,
   "metadata": {},
   "outputs": [],
   "source": [
    "table.to_excel(r'C:\\Users\\Admin\\Documents\\GitHub\\dsi310_group9\\week03\\thaigem.xlsx')"
   ]
  },
  {
   "cell_type": "markdown",
   "metadata": {},
   "source": [
    "- dump data to json file"
   ]
  },
  {
   "cell_type": "code",
   "execution_count": 20,
   "metadata": {},
   "outputs": [],
   "source": [
    "import json\n",
    "thaigem = []"
   ]
  },
  {
   "cell_type": "code",
   "execution_count": 21,
   "metadata": {},
   "outputs": [],
   "source": [
    "table = table.to_dict('records')\n",
    "#print (table)"
   ]
  },
  {
   "cell_type": "code",
   "execution_count": 23,
   "metadata": {},
   "outputs": [
    {
     "name": "stdout",
     "output_type": "stream",
     "text": [
      "page:1535\n"
     ]
    }
   ],
   "source": [
    "print (f\"page:{len(table)}\")"
   ]
  },
  {
   "cell_type": "code",
   "execution_count": 24,
   "metadata": {},
   "outputs": [],
   "source": [
    "with open('thaigem.json', 'w') as f:\n",
    "    json.dump(table, f)"
   ]
  },
  {
   "cell_type": "markdown",
   "metadata": {},
   "source": [
    "## Upload data to DataPlatform"
   ]
  },
  {
   "cell_type": "code",
   "execution_count": null,
   "metadata": {},
   "outputs": [],
   "source": [
    "from dsmlibrary.datanode import DataNode"
   ]
  },
  {
   "cell_type": "code",
   "execution_count": null,
   "metadata": {},
   "outputs": [],
   "source": [
    "dir_rawData_id = 87"
   ]
  },
  {
   "cell_type": "code",
   "execution_count": null,
   "metadata": {},
   "outputs": [],
   "source": [
    "datanode = DataNode()"
   ]
  },
  {
   "cell_type": "code",
   "execution_count": null,
   "metadata": {},
   "outputs": [],
   "source": [
    "datanode.upload_file(directory_id=dir_rawData_id, file_path='thaigem.json')"
   ]
  }
 ],
 "metadata": {
  "kernelspec": {
   "display_name": "Python 3.9.13 ('dsi314_se')",
   "language": "python",
   "name": "python3"
  },
  "language_info": {
   "codemirror_mode": {
    "name": "ipython",
    "version": 3
   },
   "file_extension": ".py",
   "mimetype": "text/x-python",
   "name": "python",
   "nbconvert_exporter": "python",
   "pygments_lexer": "ipython3",
   "version": "3.9.13"
  },
  "orig_nbformat": 4,
  "vscode": {
   "interpreter": {
    "hash": "785dfde9ab2fb35d407d825d6311be0b8f4f807384574ce9fa994ed6cb7ae234"
   }
  }
 },
 "nbformat": 4,
 "nbformat_minor": 2
}
