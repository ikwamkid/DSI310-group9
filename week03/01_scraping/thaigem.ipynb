{
 "cells": [
  {
   "cell_type": "markdown",
   "metadata": {},
   "source": [
    "# 01_scrap\n",
    "- scrapping data from thaigemjewelry.or.th/member and upload to DataPlatform"
   ]
  },
  {
   "cell_type": "markdown",
   "metadata": {},
   "source": [
    "## Selenium login process"
   ]
  },
  {
   "cell_type": "code",
   "execution_count": 1,
   "metadata": {},
   "outputs": [],
   "source": [
    "from selenium import webdriver\n",
    "from selenium.webdriver.common.by import By\n",
    "from selenium.webdriver.common.keys import Keys\n",
    "import time\n",
    "import bs4 \n",
    "import requests\n",
    "import pandas as pd\n",
    "from bs4 import BeautifulSoup\n",
    "\n",
    "username = \"ikwamkid@outlook.com\"\n",
    "password = \"12345678\"\n",
    "\n",
    "driver = webdriver.Chrome(executable_path=r'C:\\Users\\Admin\\Documents\\GitHub\\tryme_selenium\\chromedriver\\chromedriver')\n",
    "driver.get('https://www.thaigemjewelry.or.th/member?page=1')\n",
    "\n",
    "# กดปุ่ม log in\n",
    "login = driver.find_element_by_xpath('/html/body/div[1]/div[2]/div[2]/a').click()\n",
    "\n",
    "# ป้อน username/password\n",
    "time.sleep(2)\n",
    "user = driver.find_element_by_xpath('/html/body/div[3]/div/div/div[2]/form/div/div[1]/input')\n",
    "pas = driver.find_element_by_xpath('/html/body/div[3]/div/div/div[2]/form/div/div[2]/input')\n",
    "time.sleep(2)\n",
    "user.send_keys(username)\n",
    "pas.send_keys(password + Keys.ENTER)\n",
    "\n",
    "# กลับไปกดเพจ member directory\n",
    "time.sleep(2)\n",
    "member = driver.find_element_by_xpath('/html/body/nav/div/div[3]/ul/li[3]/a').click()\n",
    "memberdir = driver.find_element_by_xpath('/html/body/nav/div/div[3]/ul/li[3]/ul/li[1]/a').click()\n",
    "\n",
    "#Zoom out เพื่อให้ load ทั่วหน้าจอ\n",
    "driver.execute_script(\"document.body.style.Transform='scale(0.1)';\")\n",
    "driver.execute_script('document.body.style.TransformOrigin = \"0 0\";')\n",
    "\n",
    "# ปิด cookie policy\n",
    "cookie_button = driver.find_element_by_xpath('/html/body/div[20]/button').click()"
   ]
  },
  {
   "cell_type": "markdown",
   "metadata": {},
   "source": [
    "## Scraping Process"
   ]
  },
  {
   "cell_type": "code",
   "execution_count": 2,
   "metadata": {},
   "outputs": [],
   "source": [
    "name = []\n",
    "product_type = []\n",
    "bussiness_type = []\n",
    "\n",
    "data = driver.page_source #ดึงข้อมูลจากหน้าเว็บ\n",
    "soup = bs4.BeautifulSoup(data) #จัดในรูปแบบ BeautifulSoup\n",
    "\n",
    "for i in range(0,77):\n",
    "    \n",
    "    shop = soup.select(\"body > section > div > div.row > div\") #css selector\n",
    "    for sp in shop:\n",
    "        nm = sp.select_one(\"body > section > div > div.row > div > div > div.w-50.position-relative.member-text > div > h5\").text.strip()\n",
    "        name.append(nm)\n",
    "\n",
    "        pt = sp.select_one(\"body > section > div > div.row > div > div > div.w-50.position-relative.member-text > div > div.cate-type.mb-2 > p\").text.strip()\n",
    "        product_type.append(pt)\n",
    "        \n",
    "        bt = sp.select_one(\"body > section > div > div.row > div > div > div.w-50.position-relative.member-text > div > div:nth-child(3) > p\").text.strip()\n",
    "        bussiness_type.append(bt)\n",
    "        \n",
    "        # records.append([name, product_type, bussiness_type])\n",
    "\n"
   ]
  },
  {
   "cell_type": "code",
   "execution_count": 3,
   "metadata": {},
   "outputs": [
    {
     "data": {
      "text/html": [
       "<div>\n",
       "<style scoped>\n",
       "    .dataframe tbody tr th:only-of-type {\n",
       "        vertical-align: middle;\n",
       "    }\n",
       "\n",
       "    .dataframe tbody tr th {\n",
       "        vertical-align: top;\n",
       "    }\n",
       "\n",
       "    .dataframe thead th {\n",
       "        text-align: right;\n",
       "    }\n",
       "</style>\n",
       "<table border=\"1\" class=\"dataframe\">\n",
       "  <thead>\n",
       "    <tr style=\"text-align: right;\">\n",
       "      <th></th>\n",
       "      <th>name</th>\n",
       "      <th>product_type</th>\n",
       "      <th>bussiness_type</th>\n",
       "    </tr>\n",
       "  </thead>\n",
       "  <tbody>\n",
       "    <tr>\n",
       "      <th>0</th>\n",
       "      <td>Ressigeac Gems Co.,Ltd.</td>\n",
       "      <td>Gemstones</td>\n",
       "      <td>Wholesaler, Exporter</td>\n",
       "    </tr>\n",
       "    <tr>\n",
       "      <th>1</th>\n",
       "      <td>Yu Feng Jewelry Co.,Ltd.</td>\n",
       "      <td>Gemstones</td>\n",
       "      <td>Retailer, Wholesaler, Importer, Exporter</td>\n",
       "    </tr>\n",
       "    <tr>\n",
       "      <th>2</th>\n",
       "      <td>Emerald Mines Co.,Ltd.</td>\n",
       "      <td>Gemstones</td>\n",
       "      <td>Retailer, Wholesaler, Importer, Exporter</td>\n",
       "    </tr>\n",
       "    <tr>\n",
       "      <th>3</th>\n",
       "      <td>La Siam Gems Inter Co.,Ltd.</td>\n",
       "      <td>Gemsotnes,Precious and Semi Precious Stones</td>\n",
       "      <td>Exporter, Importer, Wholesaler, Retailer</td>\n",
       "    </tr>\n",
       "    <tr>\n",
       "      <th>4</th>\n",
       "      <td>American Gemstone Ltd.</td>\n",
       "      <td>Equipment and Tools,3D Printer &amp; Software,3D P...</td>\n",
       "      <td>3D Service,3D Service</td>\n",
       "    </tr>\n",
       "    <tr>\n",
       "      <th>...</th>\n",
       "      <td>...</td>\n",
       "      <td>...</td>\n",
       "      <td>...</td>\n",
       "    </tr>\n",
       "    <tr>\n",
       "      <th>1535</th>\n",
       "      <td>Progold (Thailand) Co.,Ltd.</td>\n",
       "      <td>Precious Metals,Master Alloy</td>\n",
       "      <td>Agent, Wholesaler, Importer</td>\n",
       "    </tr>\n",
       "    <tr>\n",
       "      <th>1536</th>\n",
       "      <td>PATERSON JEWELLERY CO.,LTD.</td>\n",
       "      <td>Gold Jewelry,White Gold,Silver Jewelry,Manu,OE...</td>\n",
       "      <td>Jewelry Manufacturer, OEM (Original Equipment ...</td>\n",
       "    </tr>\n",
       "    <tr>\n",
       "      <th>1537</th>\n",
       "      <td>Creative Jewelry Manufacturing Co.,Ltd.</td>\n",
       "      <td>Certified Diamond : Fancy shape,Parcel Diamond...</td>\n",
       "      <td>Importer,Exporter</td>\n",
       "    </tr>\n",
       "    <tr>\n",
       "      <th>1538</th>\n",
       "      <td>RG CRYSTALS LTD.</td>\n",
       "      <td>Synthetic Stones</td>\n",
       "      <td>Retailer, Wholesaler, Importer, Exporter</td>\n",
       "    </tr>\n",
       "    <tr>\n",
       "      <th>1539</th>\n",
       "      <td>K.V. Gems Co.,Ltd.</td>\n",
       "      <td>Gemstones</td>\n",
       "      <td>Importer, Exporter</td>\n",
       "    </tr>\n",
       "  </tbody>\n",
       "</table>\n",
       "<p>1540 rows × 3 columns</p>\n",
       "</div>"
      ],
      "text/plain": [
       "                                         name  \\\n",
       "0                     Ressigeac Gems Co.,Ltd.   \n",
       "1                    Yu Feng Jewelry Co.,Ltd.   \n",
       "2                      Emerald Mines Co.,Ltd.   \n",
       "3                 La Siam Gems Inter Co.,Ltd.   \n",
       "4                      American Gemstone Ltd.   \n",
       "...                                       ...   \n",
       "1535              Progold (Thailand) Co.,Ltd.   \n",
       "1536              PATERSON JEWELLERY CO.,LTD.   \n",
       "1537  Creative Jewelry Manufacturing Co.,Ltd.   \n",
       "1538                         RG CRYSTALS LTD.   \n",
       "1539                       K.V. Gems Co.,Ltd.   \n",
       "\n",
       "                                           product_type  \\\n",
       "0                                             Gemstones   \n",
       "1                                             Gemstones   \n",
       "2                                             Gemstones   \n",
       "3           Gemsotnes,Precious and Semi Precious Stones   \n",
       "4     Equipment and Tools,3D Printer & Software,3D P...   \n",
       "...                                                 ...   \n",
       "1535                       Precious Metals,Master Alloy   \n",
       "1536  Gold Jewelry,White Gold,Silver Jewelry,Manu,OE...   \n",
       "1537  Certified Diamond : Fancy shape,Parcel Diamond...   \n",
       "1538                                   Synthetic Stones   \n",
       "1539                                          Gemstones   \n",
       "\n",
       "                                         bussiness_type  \n",
       "0                                  Wholesaler, Exporter  \n",
       "1              Retailer, Wholesaler, Importer, Exporter  \n",
       "2              Retailer, Wholesaler, Importer, Exporter  \n",
       "3              Exporter, Importer, Wholesaler, Retailer  \n",
       "4                                 3D Service,3D Service  \n",
       "...                                                 ...  \n",
       "1535                        Agent, Wholesaler, Importer  \n",
       "1536  Jewelry Manufacturer, OEM (Original Equipment ...  \n",
       "1537                                  Importer,Exporter  \n",
       "1538           Retailer, Wholesaler, Importer, Exporter  \n",
       "1539                                 Importer, Exporter  \n",
       "\n",
       "[1540 rows x 3 columns]"
      ]
     },
     "execution_count": 3,
     "metadata": {},
     "output_type": "execute_result"
    }
   ],
   "source": [
    "table = pd.DataFrame([name,product_type,bussiness_type]).transpose()\n",
    "table.columns = ['name','product_type','bussiness_type']\n",
    "table"
   ]
  },
  {
   "cell_type": "markdown",
   "metadata": {},
   "source": [
    "- dump data to json file"
   ]
  },
  {
   "cell_type": "code",
   "execution_count": 4,
   "metadata": {},
   "outputs": [],
   "source": [
    "import json\n",
    "thaigem = []"
   ]
  },
  {
   "cell_type": "code",
   "execution_count": 5,
   "metadata": {},
   "outputs": [],
   "source": [
    "table = table.to_dict('records')\n",
    "#print (table)"
   ]
  },
  {
   "cell_type": "code",
   "execution_count": 6,
   "metadata": {},
   "outputs": [
    {
     "name": "stdout",
     "output_type": "stream",
     "text": [
      "page:1540\n"
     ]
    }
   ],
   "source": [
    "print (f\"page:{len(table)}\")"
   ]
  },
  {
   "cell_type": "code",
   "execution_count": 7,
   "metadata": {},
   "outputs": [],
   "source": [
    "with open('thaigem.json', 'w') as f:\n",
    "    json.dump(table, f)"
   ]
  },
  {
   "cell_type": "markdown",
   "metadata": {},
   "source": [
    "## Upload data to DataPlatform"
   ]
  },
  {
   "cell_type": "code",
   "execution_count": null,
   "metadata": {},
   "outputs": [],
   "source": [
    "from dsmlibrary.datanode import DataNode"
   ]
  },
  {
   "cell_type": "code",
   "execution_count": null,
   "metadata": {},
   "outputs": [],
   "source": [
    "dir_rawData_id = 87"
   ]
  },
  {
   "cell_type": "code",
   "execution_count": null,
   "metadata": {},
   "outputs": [],
   "source": [
    "datanode = DataNode()"
   ]
  },
  {
   "cell_type": "code",
   "execution_count": null,
   "metadata": {},
   "outputs": [],
   "source": [
    "datanode.upload_file(directory_id=dir_rawData_id, file_path='thaigem.json')"
   ]
  }
 ],
 "metadata": {
  "kernelspec": {
   "display_name": "Python 3.9.13 ('dsi314_se')",
   "language": "python",
   "name": "python3"
  },
  "language_info": {
   "codemirror_mode": {
    "name": "ipython",
    "version": 3
   },
   "file_extension": ".py",
   "mimetype": "text/x-python",
   "name": "python",
   "nbconvert_exporter": "python",
   "pygments_lexer": "ipython3",
   "version": "3.9.13"
  },
  "orig_nbformat": 4,
  "vscode": {
   "interpreter": {
    "hash": "785dfde9ab2fb35d407d825d6311be0b8f4f807384574ce9fa994ed6cb7ae234"
   }
  }
 },
 "nbformat": 4,
 "nbformat_minor": 2
}
